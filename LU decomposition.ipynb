{
 "cells": [
  {
   "cell_type": "markdown",
   "metadata": {},
   "source": [
    "# The LU decomposition algorithm from class\n",
    "Note that this algorithm uses pivoting and stores the data in-place."
   ]
  },
  {
   "cell_type": "code",
   "execution_count": 9,
   "metadata": {
    "collapsed": true,
    "deletable": true,
    "editable": true
   },
   "outputs": [],
   "source": [
    "def swap_rows(a,i1,i2):\n",
    "    for k in range(len(a)):\n",
    "        temp = a[i1][k]\n",
    "        a[i1][k] = a[i2][k]\n",
    "        a[i2][k] = temp\n",
    "\n",
    "def lu_decomposition(a, indx):\n",
    "    n = len(a)\n",
    "    for j in range(n):\n",
    "        for i in range(j):\n",
    "            s = a[i][j]\n",
    "            for k in range(i):\n",
    "                s -= a[i][k]*a[k][j]\n",
    "            a[i][j] = s\n",
    "        big = 0.\n",
    "        for i in range(j,n):\n",
    "            s = a[i][j]\n",
    "            for k in range(j):\n",
    "                s -= a[i][k]*a[k][j]\n",
    "            a[i][j] = s\n",
    "            temp = abs(s)\n",
    "            if temp >= big:\n",
    "                big = temp\n",
    "                imax = i\n",
    "        if j != imax:\n",
    "            swap_rows(a,j,imax)\n",
    "        indx[j] = imax\n",
    "        d = 1./a[j][j]\n",
    "        for i in range(j+1,n):\n",
    "            a[i][j] *= d\n",
    "\n",
    "def lu_substitute(a, indx, b):\n",
    "    n = len(a)\n",
    "    for i in range(n):\n",
    "        imax = indx[i]\n",
    "        s = b[imax]\n",
    "        b[imax] = b[i]\n",
    "        for j in range(i):\n",
    "            s -= a[i][j]*b[j]\n",
    "        b[i] = s\n",
    "    for i in reversed(range(n)):\n",
    "        for j in range(i+1,n):\n",
    "            b[i] -= a[i][j]*b[j]\n",
    "        b[i] = b[i]/a[i][i]"
   ]
  },
  {
   "cell_type": "markdown",
   "metadata": {},
   "source": [
    "Example usage:"
   ]
  },
  {
   "cell_type": "code",
   "execution_count": 19,
   "metadata": {
    "collapsed": false,
    "deletable": true,
    "editable": true
   },
   "outputs": [
    {
     "name": "stdout",
     "output_type": "stream",
     "text": [
      "[0.21428571428571427, -0.03571428571428572]\n"
     ]
    }
   ],
   "source": [
    "A = [[5., 2.], [1., 6.]]\n",
    "b = [1., 0.]\n",
    "index = [0 for i in range(len(b))]\n",
    "lu_decomposition(A, index) # will modify A and index\n",
    "lu_substitute(A, index, b) # will modify b\n",
    "print(b) # print solution"
   ]
  }
 ],
 "metadata": {
  "kernelspec": {
   "display_name": "Python 3",
   "language": "python",
   "name": "python3"
  },
  "language_info": {
   "codemirror_mode": {
    "name": "ipython",
    "version": 3
   },
   "file_extension": ".py",
   "mimetype": "text/x-python",
   "name": "python",
   "nbconvert_exporter": "python",
   "pygments_lexer": "ipython3",
   "version": "3.5.2"
  }
 },
 "nbformat": 4,
 "nbformat_minor": 2
}
