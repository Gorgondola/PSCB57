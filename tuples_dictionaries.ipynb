{
 "cells": [
  {
   "cell_type": "markdown",
   "metadata": {},
   "source": [
    "# We're out of time! Here are some other things to know"
   ]
  },
  {
   "cell_type": "markdown",
   "metadata": {},
   "source": [
    "### More datatypes: Tuples, Dictionaries\n",
    "\n",
    "A **tuple** is a data structure that is an immutable, or unchangeable, ordered sequence of elements. Tuples are similar to lists, except that they are **immutable**, meaning their values cannot be modified and items cannot be added or removed - this is the main difference from lists.  The syntax for a list is to use an open bracket, comma-separated values, and a closing bracket."
   ]
  },
  {
   "cell_type": "code",
   "execution_count": 60,
   "metadata": {
    "collapsed": true
   },
   "outputs": [],
   "source": [
    "rock_climbing = ('Moab', 'Salt Lake City', 'Boulder', 'Frisco')"
   ]
  },
  {
   "cell_type": "code",
   "execution_count": 61,
   "metadata": {},
   "outputs": [
    {
     "data": {
      "text/plain": [
       "'Boulder'"
      ]
     },
     "execution_count": 61,
     "metadata": {},
     "output_type": "execute_result"
    }
   ],
   "source": [
    "rock_climbing[2]"
   ]
  },
  {
   "cell_type": "markdown",
   "metadata": {},
   "source": [
    "When you use tuples in your code, you are conveying to others that you don’t intend for there to be changes to that sequence of values. Additionally, because the values do not change, your code can be optimized through the use of tuples in Python, as the code will be slightly faster for tuples than for lists.\n",
    "\n",
    "If we create a tuple and decide what we really need is a list, we can convert it to a list. To convert a tuple to a list, we can do so with ```list()```. Likewise, we can convert lists to tuples with ```tuple()```.\n",
    "\n",
    "The **dictionary** is Python’s built-in mapping type. Dictionaries map keys to values and these key-value pairs provide a useful way to store data in Python.\n",
    "\n",
    "Typically used to hold data that are related, such as the information contained in an ID or a user profile, dictionaries are constructed with curly braces on either side { }.\n"
   ]
  },
  {
   "cell_type": "code",
   "execution_count": 62,
   "metadata": {
    "collapsed": true
   },
   "outputs": [],
   "source": [
    "tintin = {'username': 'tintin-4ever', 'online': True, 'followers': 987}"
   ]
  },
  {
   "cell_type": "code",
   "execution_count": 63,
   "metadata": {},
   "outputs": [
    {
     "data": {
      "text/plain": [
       "'tintin-4ever'"
      ]
     },
     "execution_count": 63,
     "metadata": {},
     "output_type": "execute_result"
    }
   ],
   "source": [
    "tintin['username']"
   ]
  },
  {
   "cell_type": "code",
   "execution_count": 64,
   "metadata": {
    "collapsed": true
   },
   "outputs": [],
   "source": [
    "tintin['last_name'] = 'Tompkins'"
   ]
  },
  {
   "cell_type": "code",
   "execution_count": 65,
   "metadata": {},
   "outputs": [
    {
     "data": {
      "text/plain": [
       "{'followers': 987,\n",
       " 'last_name': 'Tompkins',\n",
       " 'online': True,\n",
       " 'username': 'tintin-4ever'}"
      ]
     },
     "execution_count": 65,
     "metadata": {},
     "output_type": "execute_result"
    }
   ],
   "source": [
    "tintin"
   ]
  },
  {
   "cell_type": "markdown",
   "metadata": {},
   "source": [
    "### Exercise 6\n",
    "\n",
    "You have a list of person records:\n",
    "\n",
    "```\n",
    "persons = [{'Name': 'Albert' , 'Age': 16},\n",
    "              {'Name': 'Suzy', 'Age': 17},\n",
    "              {'Name': 'Johnny', 'Age': 13}]\n",
    "```\n",
    "\n",
    "and you want to add a new record for Annie to the list:\n",
    "\n",
    "```{'Age': 11, 'Name': 'Annie'}```\n",
    "\n",
    "Once you've done that, you want to check to see how old each person in the record is. You want to store that information in a new field called 'Current Age Group' in their record.\n",
    "\n",
    "If they are younger than 13, their 'Current Age Group' status should be 'child'.\n",
    "\n",
    "If they are older than 13, their 'Current Age Group' status should be 'youth/adult'."
   ]
  },
  {
   "cell_type": "code",
   "execution_count": 80,
   "metadata": {
    "collapsed": true
   },
   "outputs": [],
   "source": [
    "persons = [  \n",
    "              {'Name': 'Billy' , 'Age': 16},\n",
    "              {'Name': 'Steph', 'Age': 17},\n",
    "              {'Name': 'Warren', 'Age': 13}\n",
    "]"
   ]
  },
  {
   "cell_type": "code",
   "execution_count": 81,
   "metadata": {
    "collapsed": true
   },
   "outputs": [],
   "source": [
    "girl = {'Age': 11, 'Name': 'Annie'}"
   ]
  },
  {
   "cell_type": "code",
   "execution_count": 82,
   "metadata": {
    "collapsed": true
   },
   "outputs": [],
   "source": [
    "persons = persons + [girl]"
   ]
  },
  {
   "cell_type": "code",
   "execution_count": 83,
   "metadata": {},
   "outputs": [
    {
     "data": {
      "text/plain": [
       "[{'Age': 16, 'Name': 'Billy'},\n",
       " {'Age': 17, 'Name': 'Steph'},\n",
       " {'Age': 13, 'Name': 'Warren'},\n",
       " {'Age': 11, 'Name': 'Annie'}]"
      ]
     },
     "execution_count": 83,
     "metadata": {},
     "output_type": "execute_result"
    }
   ],
   "source": [
    "persons"
   ]
  },
  {
   "cell_type": "code",
   "execution_count": 70,
   "metadata": {},
   "outputs": [
    {
     "name": "stdout",
     "output_type": "stream",
     "text": [
      "Tanis is not a child, they can be left unattended\n",
      "Steph is not a child, they can be left unattended\n",
      "Warren is not a child, they can be left unattended\n",
      "Annie is a child, they need to go to daycare\n"
     ]
    }
   ],
   "source": [
    "for dict in persons:\n",
    "    if dict['Age'] < 13:\n",
    "        dict['Current Age Group'] = 'child'\n",
    "        print(dict['Name'], \"is a child, they need to go to daycare\")\n",
    "    else:\n",
    "        dict['Current Age Group'] = 'youth/adult'\n",
    "        print(dict['Name'], \"is not a child, they can be left unattended\")"
   ]
  },
  {
   "cell_type": "code",
   "execution_count": 71,
   "metadata": {},
   "outputs": [
    {
     "data": {
      "text/plain": [
       "[{'Age': 16, 'Current Age Group': 'youth/adult', 'Name': 'Tanis'},\n",
       " {'Age': 17, 'Current Age Group': 'youth/adult', 'Name': 'Steph'},\n",
       " {'Age': 13, 'Current Age Group': 'youth/adult', 'Name': 'Warren'},\n",
       " {'Age': 11, 'Current Age Group': 'child', 'Name': 'Annie'}]"
      ]
     },
     "execution_count": 71,
     "metadata": {},
     "output_type": "execute_result"
    }
   ],
   "source": [
    "persons"
   ]
  },
  {
   "cell_type": "markdown",
   "metadata": {
    "collapsed": true
   },
   "source": [
    "## Summary\n",
    "\n",
    "### Built-in data types\n",
    "\n",
    "#### Variable datatypes\n",
    "\n",
    "Strings\n",
    "\n",
    "Integers\n",
    "\n",
    "Floats\n",
    "\n",
    "#### Sequential datatypes\n",
    "\n",
    "Lists\n",
    "\n",
    "Tuples\n",
    "\n",
    "Dictionaries\n",
    "\n",
    "#### Operators\n",
    "\n",
    "Arithmetic\n",
    "\n",
    "Comparison\n",
    "\n",
    "Logic\n",
    "\n",
    "#### Conditionals\n",
    "\n",
    "If\n",
    "\n",
    "For loop\n",
    "\n",
    "While loop\n",
    "\n",
    "#### Functions\n",
    "\n",
    "Built-in functions\n",
    "\n",
    "Defining functions\n",
    "\n",
    "#### Syntax\n",
    "\n",
    "Lines and indentation\n",
    "\n",
    "help(object.method) to get help on how to use a method\n",
    "\n",
    "dir(object) to get methods (functions inside objects). e.g. if object was a string object\n",
    "\n",
    "Comments (use # or \"\"\"), Meaningful naming"
   ]
  },
  {
   "cell_type": "markdown",
   "metadata": {},
   "source": [
    "### Resources\n",
    "\n",
    "https://try.jupyter.org/\n",
    "\n",
    "https://docs.python.org/3/contents.html\n",
    "\n",
    "https://www.digitalocean.com/community/tutorial_series/how-to-code-in-python-3"
   ]
  }
 ],
 "metadata": {
  "kernelspec": {
   "display_name": "Python 3",
   "language": "python",
   "name": "python3"
  },
  "language_info": {
   "codemirror_mode": {
    "name": "ipython",
    "version": 3
   },
   "file_extension": ".py",
   "mimetype": "text/x-python",
   "name": "python",
   "nbconvert_exporter": "python",
   "pygments_lexer": "ipython3",
   "version": "3.5.1"
  }
 },
 "nbformat": 4,
 "nbformat_minor": 2
}
