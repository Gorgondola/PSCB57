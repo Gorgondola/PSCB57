{
 "cells": [
  {
   "cell_type": "code",
   "execution_count": 153,
   "metadata": {},
   "outputs": [],
   "source": [
    "import random\n",
    "import numpy as np\n",
    "import struct\n",
    "import warnings\n",
    "warnings.filterwarnings(\"ignore\",message=\"overflow encountered in power\")\n",
    "warnings.filterwarnings(\"ignore\",message=\"overflow encountered in double_scalars\")"
   ]
  },
  {
   "cell_type": "code",
   "execution_count": 154,
   "metadata": {
    "collapsed": true
   },
   "outputs": [],
   "source": [
    "def fextract(num):\n",
    "    return ''.join(bin(c).replace('0b', '').rjust(8, '0') for c in struct.pack('!d', num))"
   ]
  },
  {
   "cell_type": "code",
   "execution_count": 155,
   "metadata": {
    "collapsed": true
   },
   "outputs": [],
   "source": [
    "def genTest():\n",
    "    if random.randint(0,1):\n",
    "        f = float(random.randint(1,99))/100.\n",
    "    else:\n",
    "        f = 0.\n",
    "        for i in range(3):\n",
    "            f += 2**(-float(random.randint(1,3)))\n",
    "    b = fextract(f)            \n",
    "    print(\"%.5f    %.20f    %s %s %s \"%(f,f,b[0],b[1:12],b[12:]))        "
   ]
  },
  {
   "cell_type": "code",
   "execution_count": 156,
   "metadata": {},
   "outputs": [
    {
     "name": "stdout",
     "output_type": "stream",
     "text": [
      "0.87500    0.87500000000000000000    0 01111111110 1100000000000000000000000000000000000000000000000000 \n",
      "0.05000    0.05000000000000000278    0 01111111010 1001100110011001100110011001100110011001100110011010 \n",
      "1.00000    1.00000000000000000000    0 01111111111 0000000000000000000000000000000000000000000000000000 \n",
      "0.75000    0.75000000000000000000    0 01111111110 1000000000000000000000000000000000000000000000000000 \n",
      "0.71000    0.70999999999999996447    0 01111111110 0110101110000101000111101011100001010001111010111000 \n",
      "0.27000    0.27000000000000001776    0 01111111101 0001010001111010111000010100011110101110000101001000 \n",
      "0.62500    0.62500000000000000000    0 01111111110 0100000000000000000000000000000000000000000000000000 \n",
      "0.41000    0.40999999999999997558    0 01111111101 1010001111010111000010100011110101110000101000111101 \n",
      "0.66000    0.66000000000000003109    0 01111111110 0101000111101011100001010001111010111000010100011111 \n",
      "1.12500    1.12500000000000000000    0 01111111111 0010000000000000000000000000000000000000000000000000 \n"
     ]
    }
   ],
   "source": [
    "for i in range(10):\n",
    "    genTest()"
   ]
  },
  {
   "cell_type": "code",
   "execution_count": 157,
   "metadata": {
    "collapsed": true
   },
   "outputs": [],
   "source": [
    "def genTest2():\n",
    "    c = random.randint(0,1) \n",
    "    if c==0:\n",
    "        d1, d2 = random.randint(1,9), float(random.randint(300,309))\n",
    "    elif c==1:\n",
    "        d1, d2 = random.randint(1,9), float(random.randint(-330,-320))\n",
    "    f = np.array(float(d1)*np.power(10.,d2))\n",
    "   \n",
    "    b = fextract(f)        \n",
    "    print(\"%d.0e%+d    %12.3e    %s %s %s\"%(d1,d2,f,b[0],b[1:12],b[12:]))        "
   ]
  },
  {
   "cell_type": "code",
   "execution_count": 158,
   "metadata": {},
   "outputs": [
    {
     "name": "stdout",
     "output_type": "stream",
     "text": [
      "9.0e-324       0.000e+00    0 00000000000 0000000000000000000000000000000000000000000000000000\n",
      "7.0e-328       0.000e+00    0 00000000000 0000000000000000000000000000000000000000000000000000\n",
      "1.0e-328       0.000e+00    0 00000000000 0000000000000000000000000000000000000000000000000000\n",
      "5.0e-329       0.000e+00    0 00000000000 0000000000000000000000000000000000000000000000000000\n",
      "6.0e+306      6.000e+306    0 11111111010 0001000101101010110001010111100110101010110000011111\n",
      "1.0e-329       0.000e+00    0 00000000000 0000000000000000000000000000000000000000000000000000\n",
      "2.0e+307      2.000e+307    0 11111111011 1100011110110001111100111100101011000111010000110011\n",
      "2.0e+309             inf    0 11111111111 0000000000000000000000000000000000000000000000000000\n",
      "9.0e+302      9.000e+302    0 11111101101 0100111111111001100100110011100010000110011101011110\n",
      "3.0e+305      3.000e+305    0 11111110101 1011010101110111101000100101110001000100011010010111\n"
     ]
    }
   ],
   "source": [
    "for i in range(10):\n",
    "    genTest2()"
   ]
  },
  {
   "cell_type": "code",
   "execution_count": 159,
   "metadata": {},
   "outputs": [
    {
     "name": "stdout",
     "output_type": "stream",
     "text": [
      "1 01111101011 0000100011011100010001001011011111011101101011001100\n"
     ]
    }
   ],
   "source": [
    "f = np.random.randint(low=np.iinfo(np.int64).min,high=np.iinfo(np.int64).max,dtype=np.int64).view(np.dtype(\"d\"))\n",
    "b = fextract(f)        \n",
    "print(\"%s %s %s\"%(b[0],b[1:12],b[12:]))    "
   ]
  },
  {
   "cell_type": "code",
   "execution_count": 160,
   "metadata": {},
   "outputs": [
    {
     "data": {
      "text/plain": [
       "-9.866819663231035e-07"
      ]
     },
     "execution_count": 160,
     "metadata": {},
     "output_type": "execute_result"
    }
   ],
   "source": [
    "f"
   ]
  },
  {
   "cell_type": "code",
   "execution_count": null,
   "metadata": {
    "collapsed": true
   },
   "outputs": [],
   "source": []
  },
  {
   "cell_type": "code",
   "execution_count": null,
   "metadata": {
    "collapsed": true
   },
   "outputs": [],
   "source": []
  }
 ],
 "metadata": {
  "kernelspec": {
   "display_name": "Python 3",
   "language": "python",
   "name": "python3"
  },
  "language_info": {
   "codemirror_mode": {
    "name": "ipython",
    "version": 3
   },
   "file_extension": ".py",
   "mimetype": "text/x-python",
   "name": "python",
   "nbconvert_exporter": "python",
   "pygments_lexer": "ipython3",
   "version": "3.5.2"
  }
 },
 "nbformat": 4,
 "nbformat_minor": 2
}
