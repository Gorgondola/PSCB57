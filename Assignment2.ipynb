{
 "cells": [
  {
   "cell_type": "markdown",
   "metadata": {},
   "source": [
    "# Assignment 2\n",
    "PSCB57H - Scientific Computing - Fall 2017\n",
    "\n",
    "In this assignment, you will compare three implementations of the Fibonacci numbers\n",
    "\n",
    "Once you're done, submit the `ipynb` file via portal. The deadline is Friday October 6th, 6pm."
   ]
  },
  {
   "cell_type": "markdown",
   "metadata": {},
   "source": [
    "You will need to calculate the square root in this assignment. To do that use the `math` package."
   ]
  },
  {
   "cell_type": "code",
   "execution_count": 2,
   "metadata": {
    "collapsed": true
   },
   "outputs": [],
   "source": [
    "from math import sqrt"
   ]
  },
  {
   "cell_type": "markdown",
   "metadata": {},
   "source": [
    "## Part 1\n",
    "Insert a cell below and code up the naiive $O(2^N)$ implementation of the Fibonacci numbers that we discussed in the first lecture."
   ]
  },
  {
   "cell_type": "markdown",
   "metadata": {},
   "source": [
    "## Part 2\n",
    "Implement the $O(\\log(N))$ version of the Fibonacci numbers in a cell below."
   ]
  },
  {
   "cell_type": "markdown",
   "metadata": {},
   "source": [
    "## Part 3\n",
    "Finally, implement the $O(1)$ implementation of the Fibonacci numbers that uses floating pointn numbers."
   ]
  },
  {
   "cell_type": "markdown",
   "metadata": {},
   "source": [
    "## Part 4\n",
    "Test the scalings for these three algorithms. Proof that the algorithms indeed follow the $O(\\cdot)$ behaviour that you expect. You are free to choose how you do that. You might want to use the `%time` magic of jupyter notebooks and then summarize your results in a markdown table. Put all the code you used as well as the results in cells below."
   ]
  }
 ],
 "metadata": {
  "kernelspec": {
   "display_name": "Python 3",
   "language": "python",
   "name": "python3"
  },
  "language_info": {
   "codemirror_mode": {
    "name": "ipython",
    "version": 3
   },
   "file_extension": ".py",
   "mimetype": "text/x-python",
   "name": "python",
   "nbconvert_exporter": "python",
   "pygments_lexer": "ipython3",
   "version": "3.5.2"
  }
 },
 "nbformat": 4,
 "nbformat_minor": 2
}
