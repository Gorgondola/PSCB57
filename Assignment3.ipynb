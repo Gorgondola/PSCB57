{
 "cells": [
  {
   "cell_type": "markdown",
   "metadata": {},
   "source": [
    "# Assignment 3\n",
    "PSCB57H - Scientific Computing - Fall 2017\n",
    "\n",
    "In this assignment, you will implement a linear least square fit. The LU decomposition has already been implemented for you. Your task is to construct the neccesary matrix and vector, and then feed them to the LU decomposition.\n",
    "\n",
    "For this assignment, you should not use any external packages.\n",
    "\n",
    "Once you're done, submit the `ipynb` file via portal. The deadline is Wednesday November 1st, 6pm."
   ]
  },
  {
   "cell_type": "markdown",
   "metadata": {},
   "source": [
    "## Part 1\n",
    "The cell below includes the LU decomposition algorithm. You do not need to understand all of the LU algorithm in detail, but you need to know how to use it. "
   ]
  },
  {
   "cell_type": "code",
   "execution_count": null,
   "metadata": {},
   "outputs": [],
   "source": [
    "def swap_rows(a,i1,i2):\n",
    "    for k in range(len(a)):\n",
    "        temp = a[i1][k]\n",
    "        a[i1][k] = a[i2][k]\n",
    "        a[i2][k] = temp\n",
    "\n",
    "def lu_decomposition(a, indx):\n",
    "    n = len(a)\n",
    "    for j in range(n):\n",
    "        for i in range(j):\n",
    "            s = a[i][j]\n",
    "            for k in range(i):\n",
    "                s -= a[i][k]*a[k][j]\n",
    "            a[i][j] = s\n",
    "        big = 0.\n",
    "        for i in range(j,n):\n",
    "            s = a[i][j]\n",
    "            for k in range(j):\n",
    "                s -= a[i][k]*a[k][j]\n",
    "            a[i][j] = s\n",
    "            temp = abs(s)\n",
    "            if temp >= big:\n",
    "                big = temp\n",
    "                imax = i\n",
    "        if j != imax:\n",
    "            swap_rows(a,j,imax)\n",
    "        indx[j] = imax\n",
    "        d = 1./a[j][j]\n",
    "        for i in range(j+1,n):\n",
    "            a[i][j] *= d\n",
    "\n",
    "def lu_substitute(a, indx, b):\n",
    "    n = len(a)\n",
    "    for i in range(n):\n",
    "        imax = indx[i]\n",
    "        s = b[imax]\n",
    "        b[imax] = b[i]\n",
    "        for j in range(i):\n",
    "            s -= a[i][j]*b[j]\n",
    "        b[i] = s\n",
    "    for i in reversed(range(n)):\n",
    "        for j in range(i+1,n):\n",
    "            b[i] -= a[i][j]*b[j]\n",
    "        b[i] = b[i]/a[i][i]"
   ]
  },
  {
   "cell_type": "markdown",
   "metadata": {},
   "source": [
    "Use the LU decomposition functions to solve the following linear system of equations for $x_0$ and $x_1$:\n",
    "$$ 3.2 \\cdot x_0 + 3.1 \\cdot x_1  = 8.9$$\n",
    "$$ -98.2 \\cdot x_0 + 0.6 \\cdot x_1  = 79.9$$\n",
    "Write your code into the following cell and print out your answer for $x_0$ and $x_1$."
   ]
  },
  {
   "cell_type": "code",
   "execution_count": null,
   "metadata": {},
   "outputs": [],
   "source": []
  },
  {
   "cell_type": "markdown",
   "metadata": {},
   "source": [
    "## Part 2\n",
    "The following arrays contain climate data in the form of the global temperature anomaly. The first array is a list of years. The second array includes the average tmperature on the earth compared to the reference year of 1900. Your task is to fit the function\n",
    "$$ f(t) = a_0 + a_1\\cdot t + a_2\\cdot  t^2 $$\n",
    "and determine the coeficients $a_0$, $a_1$, and $a_2$. Make your algorithm general enough so that it works for arrays of arbitary length. Print out the values for $a_0$, $a_1$, and $a_2$ at the end."
   ]
  },
  {
   "cell_type": "code",
   "execution_count": null,
   "metadata": {},
   "outputs": [],
   "source": [
    "year = [1980,  1981, 1982, 1983, 1984, 1985, 1986, 1987, 1988, 1989, 1990, 1991, 1992, 1993, 1994, 1995, 1996, 1997, 1998, 1999, 2000, 2001, 2002, 2003, 2004, 2005, 2006, 2007, 2008, 2009, 2010, 2011, 2012, 2013, 2014]\n",
    "temp = [0.135, 0.317, -0.002, 0.331, -0.045, -0.033, 0.120, 0.252, 0.375, 0.245, 0.492, 0.397, 0.093, 0.175, 0.343, 0.592, 0.227, 0.518, 0.835, 0.561, 0.484, 0.681, 0.778, 0.770, 0.674, 0.882, 0.810, 0.909, 0.695, 0.731, 0.901, 0.695, 0.751, 0.791, 0.762]"
   ]
  },
  {
   "cell_type": "code",
   "execution_count": null,
   "metadata": {},
   "outputs": [],
   "source": []
  }
 ],
 "metadata": {
  "kernelspec": {
   "display_name": "Python 3",
   "language": "python",
   "name": "python3"
  },
  "language_info": {
   "codemirror_mode": {
    "name": "ipython",
    "version": 3
   },
   "file_extension": ".py",
   "mimetype": "text/x-python",
   "name": "python",
   "nbconvert_exporter": "python",
   "pygments_lexer": "ipython3",
   "version": "3.5.2"
  }
 },
 "nbformat": 4,
 "nbformat_minor": 2
}
