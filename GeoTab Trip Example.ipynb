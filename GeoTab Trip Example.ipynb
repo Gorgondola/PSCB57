{
 "cells": [
  {
   "cell_type": "markdown",
   "metadata": {},
   "source": [
    "# Example on how to read in GeoTab Trip Data"
   ]
  },
  {
   "cell_type": "code",
   "execution_count": null,
   "metadata": {
    "collapsed": false,
    "deletable": true,
    "editable": true,
    "scrolled": true
   },
   "outputs": [],
   "source": [
    "import pandas as pd\n",
    "pd.set_option('display.max_columns', None)\n",
    "import numpy as np\n",
    "import matplotlib.pyplot as plt\n",
    "%matplotlib inline\n",
    "xl = pd.ExcelFile(\"Advanced Debug Report 01102017_92531.xlsx\")\n",
    "xl.sheet_names\n",
    "df = xl.parse(\"Data\")\n",
    "df"
   ]
  },
  {
   "cell_type": "code",
   "execution_count": null,
   "metadata": {
    "collapsed": false,
    "deletable": true,
    "editable": true,
    "scrolled": false
   },
   "outputs": [],
   "source": [
    "df = xl.parse(\"Data\")\n",
    "\n",
    "tim = pd.to_datetime(df['Unnamed: 7'],errors=\"coerce\").astype('int64')\n",
    "spe = pd.to_numeric(df['Unnamed: 9'].values, errors='coerce').astype(\"float\")\n",
    "lon = pd.to_numeric(df['Unnamed: 10'].values, errors='coerce').astype(\"float\")\n",
    "lat = pd.to_numeric(df['Unnamed: 11'].values, errors='coerce').astype(\"float\")"
   ]
  },
  {
   "cell_type": "code",
   "execution_count": null,
   "metadata": {
    "collapsed": false,
    "deletable": true,
    "editable": true
   },
   "outputs": [],
   "source": [
    "fig, ax = plt.subplots(1,1,figsize=(8,7))\n",
    "ax.set_xlabel(\"lon\")\n",
    "ax.set_ylabel(\"lat\")\n",
    "ax.scatter(lon,lat)\n",
    "ax.plot(lon,lat);"
   ]
  },
  {
   "cell_type": "code",
   "execution_count": null,
   "metadata": {
    "collapsed": false,
    "deletable": true,
    "editable": true,
    "scrolled": false
   },
   "outputs": [],
   "source": [
    "fig, ax = plt.subplots(3,1,figsize=(8,10))\n",
    "ax[0].set_xlabel(\"time\")\n",
    "ax[0].set_ylabel(\"lat\")\n",
    "ax[0].set_xlim([1499421484063000000,1499424484063000000])\n",
    "ax[0].scatter(tim,lat)\n",
    "ax[0].plot(lon,lat);\n",
    "ax[1].set_xlabel(\"time\")\n",
    "ax[1].set_ylabel(\"lon\")\n",
    "ax[1].set_xlim([1499421484063000000,1499424484063000000])\n",
    "ax[1].scatter(tim,lon)\n",
    "ax[1].plot(lon,lon);\n",
    "ax[2].set_xlabel(\"time\")\n",
    "ax[2].set_ylabel(\"spe\")\n",
    "ax[2].set_xlim([1499421484063000000,1499424484063000000])\n",
    "ax[2].scatter(tim,spe)\n",
    "ax[2].plot(lon,spe);"
   ]
  },
  {
   "cell_type": "code",
   "execution_count": null,
   "metadata": {
    "collapsed": true,
    "deletable": true,
    "editable": true
   },
   "outputs": [],
   "source": []
  }
 ],
 "metadata": {
  "kernelspec": {
   "display_name": "Python 3",
   "language": "python",
   "name": "python3"
  },
  "language_info": {
   "codemirror_mode": {
    "name": "ipython",
    "version": 3
   },
   "file_extension": ".py",
   "mimetype": "text/x-python",
   "name": "python",
   "nbconvert_exporter": "python",
   "pygments_lexer": "ipython3",
   "version": "3.5.2"
  }
 },
 "nbformat": 4,
 "nbformat_minor": 2
}
